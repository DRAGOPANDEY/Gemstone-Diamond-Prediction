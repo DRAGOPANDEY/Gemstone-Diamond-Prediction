{
 "cells": [
  {
   "cell_type": "code",
   "execution_count": 1,
   "metadata": {},
   "outputs": [],
   "source": [
    "import logging\n",
    "import os\n",
    "from datetime import  datetime"
   ]
  },
  {
   "cell_type": "code",
   "execution_count": 3,
   "metadata": {},
   "outputs": [
    {
     "data": {
      "text/plain": [
       "datetime.datetime(2024, 1, 19, 0, 32, 31, 488836)"
      ]
     },
     "execution_count": 3,
     "metadata": {},
     "output_type": "execute_result"
    }
   ],
   "source": [
    "datetime.now()"
   ]
  },
  {
   "cell_type": "code",
   "execution_count": 50,
   "metadata": {},
   "outputs": [
    {
     "data": {
      "text/plain": [
       "'01_19_2024_01_10_12.log'"
      ]
     },
     "execution_count": 50,
     "metadata": {},
     "output_type": "execute_result"
    }
   ],
   "source": [
    "f\"{datetime.now().strftime('%m_%d_%Y_%H_%M_%S')}.log\""
   ]
  },
  {
   "cell_type": "code",
   "execution_count": 65,
   "metadata": {},
   "outputs": [
    {
     "data": {
      "text/plain": [
       "'c:\\\\Users\\\\91844\\\\fsda_End_To_End\\\\notebooks\\\\logs'"
      ]
     },
     "execution_count": 65,
     "metadata": {},
     "output_type": "execute_result"
    }
   ],
   "source": [
    "os.path.join(os.getcwd(),\"logs\")"
   ]
  },
  {
   "cell_type": "code",
   "execution_count": 66,
   "metadata": {},
   "outputs": [],
   "source": [
    "from src.DimondPricePrediction.logger import  logging  #everthing i going to import from the local package\n"
   ]
  },
  {
   "cell_type": "code",
   "execution_count": 67,
   "metadata": {},
   "outputs": [],
   "source": [
    "from src.DimondPricePrediction.logger import logging"
   ]
  },
  {
   "cell_type": "code",
   "execution_count": 68,
   "metadata": {},
   "outputs": [
    {
     "name": "stderr",
     "output_type": "stream",
     "text": [
      "--- Logging error ---\n",
      "Traceback (most recent call last):\n",
      "  File \"c:\\Users\\91844\\fsda_End_To_End\\env\\lib\\logging\\__init__.py\", line 1085, in emit\n",
      "    msg = self.format(record)\n",
      "  File \"c:\\Users\\91844\\fsda_End_To_End\\env\\lib\\logging\\__init__.py\", line 929, in format\n",
      "    return fmt.format(record)\n",
      "  File \"c:\\Users\\91844\\fsda_End_To_End\\env\\lib\\logging\\__init__.py\", line 671, in format\n",
      "    s = self.formatMessage(record)\n",
      "  File \"c:\\Users\\91844\\fsda_End_To_End\\env\\lib\\logging\\__init__.py\", line 640, in formatMessage\n",
      "    return self._style.format(record)\n",
      "  File \"c:\\Users\\91844\\fsda_End_To_End\\env\\lib\\logging\\__init__.py\", line 440, in format\n",
      "    return self._format(record)\n",
      "  File \"c:\\Users\\91844\\fsda_End_To_End\\env\\lib\\logging\\__init__.py\", line 436, in _format\n",
      "    return self._fmt % record.__dict__\n",
      "TypeError: not enough arguments for format string\n",
      "Call stack:\n",
      "  File \"c:\\Users\\91844\\fsda_End_To_End\\env\\lib\\runpy.py\", line 194, in _run_module_as_main\n",
      "    return _run_code(code, main_globals, None,\n",
      "  File \"c:\\Users\\91844\\fsda_End_To_End\\env\\lib\\runpy.py\", line 87, in _run_code\n",
      "    exec(code, run_globals)\n",
      "  File \"c:\\Users\\91844\\fsda_End_To_End\\env\\lib\\site-packages\\ipykernel_launcher.py\", line 17, in <module>\n",
      "    app.launch_new_instance()\n",
      "  File \"c:\\Users\\91844\\fsda_End_To_End\\env\\lib\\site-packages\\traitlets\\config\\application.py\", line 1077, in launch_instance\n",
      "    app.start()\n",
      "  File \"c:\\Users\\91844\\fsda_End_To_End\\env\\lib\\site-packages\\ipykernel\\kernelapp.py\", line 737, in start\n",
      "    self.io_loop.start()\n",
      "  File \"c:\\Users\\91844\\fsda_End_To_End\\env\\lib\\site-packages\\tornado\\platform\\asyncio.py\", line 215, in start\n",
      "    self.asyncio_loop.run_forever()\n",
      "  File \"c:\\Users\\91844\\fsda_End_To_End\\env\\lib\\asyncio\\base_events.py\", line 570, in run_forever\n",
      "    self._run_once()\n",
      "  File \"c:\\Users\\91844\\fsda_End_To_End\\env\\lib\\asyncio\\base_events.py\", line 1859, in _run_once\n",
      "    handle._run()\n",
      "  File \"c:\\Users\\91844\\fsda_End_To_End\\env\\lib\\asyncio\\events.py\", line 81, in _run\n",
      "    self._context.run(self._callback, *self._args)\n",
      "  File \"c:\\Users\\91844\\fsda_End_To_End\\env\\lib\\site-packages\\ipykernel\\kernelbase.py\", line 524, in dispatch_queue\n",
      "    await self.process_one()\n",
      "  File \"c:\\Users\\91844\\fsda_End_To_End\\env\\lib\\site-packages\\ipykernel\\kernelbase.py\", line 513, in process_one\n",
      "    await dispatch(*args)\n",
      "  File \"c:\\Users\\91844\\fsda_End_To_End\\env\\lib\\site-packages\\ipykernel\\kernelbase.py\", line 418, in dispatch_shell\n",
      "    await result\n",
      "  File \"c:\\Users\\91844\\fsda_End_To_End\\env\\lib\\site-packages\\ipykernel\\kernelbase.py\", line 758, in execute_request\n",
      "    reply_content = await reply_content\n",
      "  File \"c:\\Users\\91844\\fsda_End_To_End\\env\\lib\\site-packages\\ipykernel\\ipkernel.py\", line 426, in do_execute\n",
      "    res = shell.run_cell(\n",
      "  File \"c:\\Users\\91844\\fsda_End_To_End\\env\\lib\\site-packages\\ipykernel\\zmqshell.py\", line 549, in run_cell\n",
      "    return super().run_cell(*args, **kwargs)\n",
      "  File \"c:\\Users\\91844\\fsda_End_To_End\\env\\lib\\site-packages\\IPython\\core\\interactiveshell.py\", line 3006, in run_cell\n",
      "    result = self._run_cell(\n",
      "  File \"c:\\Users\\91844\\fsda_End_To_End\\env\\lib\\site-packages\\IPython\\core\\interactiveshell.py\", line 3061, in _run_cell\n",
      "    result = runner(coro)\n",
      "  File \"c:\\Users\\91844\\fsda_End_To_End\\env\\lib\\site-packages\\IPython\\core\\async_helpers.py\", line 129, in _pseudo_sync_runner\n",
      "    coro.send(None)\n",
      "  File \"c:\\Users\\91844\\fsda_End_To_End\\env\\lib\\site-packages\\IPython\\core\\interactiveshell.py\", line 3266, in run_cell_async\n",
      "    has_raised = await self.run_ast_nodes(code_ast.body, cell_name,\n",
      "  File \"c:\\Users\\91844\\fsda_End_To_End\\env\\lib\\site-packages\\IPython\\core\\interactiveshell.py\", line 3445, in run_ast_nodes\n",
      "    if await self.run_code(code, result, async_=asy):\n",
      "  File \"c:\\Users\\91844\\fsda_End_To_End\\env\\lib\\site-packages\\IPython\\core\\interactiveshell.py\", line 3505, in run_code\n",
      "    exec(code_obj, self.user_global_ns, self.user_ns)\n",
      "  File \"C:\\Users\\91844\\AppData\\Local\\Temp\\ipykernel_13724\\3468956384.py\", line 1, in <module>\n",
      "    logging.info(\"i am just testing the pricess\")\n",
      "Message: 'i am just testing the pricess'\n",
      "Arguments: ()\n"
     ]
    }
   ],
   "source": [
    "logging.info(\"i am just testing the pricess\")"
   ]
  },
  {
   "cell_type": "code",
   "execution_count": null,
   "metadata": {},
   "outputs": [],
   "source": []
  }
 ],
 "metadata": {
  "kernelspec": {
   "display_name": "Python 3",
   "language": "python",
   "name": "python3"
  },
  "language_info": {
   "codemirror_mode": {
    "name": "ipython",
    "version": 3
   },
   "file_extension": ".py",
   "mimetype": "text/x-python",
   "name": "python",
   "nbconvert_exporter": "python",
   "pygments_lexer": "ipython3",
   "version": "3.8.18"
  }
 },
 "nbformat": 4,
 "nbformat_minor": 2
}
